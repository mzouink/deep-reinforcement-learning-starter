{
 "cells": [
  {
   "cell_type": "markdown",
   "metadata": {},
   "source": [
    "# Continuous Control\n",
    "\n",
    "---\n",
    "\n",
    "In this notebook, you will learn how to use the Unity ML-Agents environment for the second project of the [Deep Reinforcement Learning Nanodegree](https://www.udacity.com/course/deep-reinforcement-learning-nanodegree--nd893) program.\n",
    "\n",
    "### 1. Start the Environment\n",
    "\n",
    "We begin by importing the necessary packages.  If the code cell below returns an error, please revisit the project instructions to double-check that you have installed [Unity ML-Agents](https://github.com/Unity-Technologies/ml-agents/blob/master/docs/Installation.md) and [NumPy](http://www.numpy.org/)."
   ]
  },
  {
   "cell_type": "code",
   "execution_count": 1,
   "metadata": {},
   "outputs": [],
   "source": [
    "from unityagents import UnityEnvironment\n",
    "import numpy as np\n",
    "from dqn_agent import Agent\n",
    "from collections import deque\n",
    "import time\n",
    "import torch\n",
    "from itertools import count"
   ]
  },
  {
   "cell_type": "markdown",
   "metadata": {},
   "source": [
    "Next, we will start the environment!  **_Before running the code cell below_**, change the `file_name` parameter to match the location of the Unity environment that you downloaded.\n",
    "\n",
    "- **Mac**: `\"path/to/Reacher.app\"`\n",
    "- **Windows** (x86): `\"path/to/Reacher_Windows_x86/Reacher.exe\"`\n",
    "- **Windows** (x86_64): `\"path/to/Reacher_Windows_x86_64/Reacher.exe\"`\n",
    "- **Linux** (x86): `\"path/to/Reacher_Linux/Reacher.x86\"`\n",
    "- **Linux** (x86_64): `\"path/to/Reacher_Linux/Reacher.x86_64\"`\n",
    "- **Linux** (x86, headless): `\"path/to/Reacher_Linux_NoVis/Reacher.x86\"`\n",
    "- **Linux** (x86_64, headless): `\"path/to/Reacher_Linux_NoVis/Reacher.x86_64\"`\n",
    "\n",
    "For instance, if you are using a Mac, then you downloaded `Reacher.app`.  If this file is in the same folder as the notebook, then the line below should appear as follows:\n",
    "```\n",
    "env = UnityEnvironment(file_name=\"Reacher.app\")\n",
    "```"
   ]
  },
  {
   "cell_type": "code",
   "execution_count": 2,
   "metadata": {},
   "outputs": [
    {
     "name": "stderr",
     "output_type": "stream",
     "text": [
      "INFO:unityagents:\n",
      "'Academy' started successfully!\n",
      "Unity Academy name: Academy\n",
      "        Number of Brains: 1\n",
      "        Number of External Brains : 1\n",
      "        Lesson number : 0\n",
      "        Reset Parameters :\n",
      "\t\tgoal_speed -> 1.0\n",
      "\t\tgoal_size -> 5.0\n",
      "Unity brain name: ReacherBrain\n",
      "        Number of Visual Observations (per agent): 0\n",
      "        Vector Observation space type: continuous\n",
      "        Vector Observation space size (per agent): 33\n",
      "        Number of stacked Vector Observation: 1\n",
      "        Vector Action space type: continuous\n",
      "        Vector Action space size (per agent): 4\n",
      "        Vector Action descriptions: , , , \n"
     ]
    }
   ],
   "source": [
    "env = UnityEnvironment(file_name='env/Reacher_Linux_NoVis/Reacher.x86')"
   ]
  },
  {
   "cell_type": "markdown",
   "metadata": {},
   "source": [
    "Environments contain **_brains_** which are responsible for deciding the actions of their associated agents. Here we check for the first brain available, and set it as the default brain we will be controlling from Python."
   ]
  },
  {
   "cell_type": "code",
   "execution_count": 3,
   "metadata": {},
   "outputs": [
    {
     "name": "stdout",
     "output_type": "stream",
     "text": [
      "ReacherBrain\n"
     ]
    }
   ],
   "source": [
    "brain_name = env.brain_names[0]\n",
    "print(brain_name)\n",
    "brain = env.brains[brain_name]"
   ]
  },
  {
   "cell_type": "markdown",
   "metadata": {},
   "source": [
    "### 2. Examine the State and Action Spaces\n",
    "\n",
    "In this environment, a double-jointed arm can move to target locations. A reward of `+0.1` is provided for each step that the agent's hand is in the goal location. Thus, the goal of your agent is to maintain its position at the target location for as many time steps as possible.\n",
    "\n",
    "The observation space consists of `33` variables corresponding to position, rotation, velocity, and angular velocities of the arm.  Each action is a vector with four numbers, corresponding to torque applicable to two joints.  Every entry in the action vector must be a number between `-1` and `1`.\n",
    "\n",
    "Run the code cell below to print some information about the environment."
   ]
  },
  {
   "cell_type": "code",
   "execution_count": 4,
   "metadata": {},
   "outputs": [
    {
     "name": "stdout",
     "output_type": "stream",
     "text": [
      "Number of agents: 20\n",
      "Size of each action: 4\n",
      "There are 20 agents. Each observes a state with length: 33\n",
      "The state for the first agent looks like: [ 0.00000000e+00 -4.00000000e+00  0.00000000e+00  1.00000000e+00\n",
      " -0.00000000e+00 -0.00000000e+00 -4.37113883e-08  0.00000000e+00\n",
      "  0.00000000e+00  0.00000000e+00  0.00000000e+00  0.00000000e+00\n",
      "  0.00000000e+00  0.00000000e+00 -1.00000000e+01  0.00000000e+00\n",
      "  1.00000000e+00 -0.00000000e+00 -0.00000000e+00 -4.37113883e-08\n",
      "  0.00000000e+00  0.00000000e+00  0.00000000e+00  0.00000000e+00\n",
      "  0.00000000e+00  0.00000000e+00  5.75471878e+00 -1.00000000e+00\n",
      "  5.55726624e+00  0.00000000e+00  1.00000000e+00  0.00000000e+00\n",
      " -1.68164849e-01]\n"
     ]
    }
   ],
   "source": [
    "# reset the environment\n",
    "env_info = env.reset(train_mode=True)[brain_name]\n",
    "\n",
    "# number of agents\n",
    "num_agents = len(env_info.agents)\n",
    "print('Number of agents:', num_agents)\n",
    "\n",
    "# size of each action\n",
    "action_size = brain.vector_action_space_size\n",
    "print('Size of each action:', action_size)\n",
    "\n",
    "# examine the state space \n",
    "states = env_info.vector_observations\n",
    "state_size = states.shape[1]\n",
    "print('There are {} agents. Each observes a state with length: {}'.format(states.shape[0], state_size))\n",
    "print('The state for the first agent looks like:', states[0])"
   ]
  },
  {
   "cell_type": "markdown",
   "metadata": {},
   "source": [
    "## 4.  Train!"
   ]
  },
  {
   "cell_type": "code",
   "execution_count": 6,
   "metadata": {},
   "outputs": [],
   "source": [
    "env_info = env.reset(train_mode=True)[brain_name]\n",
    "agent = Agent(state_size=state_size, action_size=action_size, random_seed=15)\n",
    "avg_over = 100\n",
    "print_every = 10"
   ]
  },
  {
   "cell_type": "code",
   "execution_count": 7,
   "metadata": {},
   "outputs": [],
   "source": [
    "def ddpg(n_episodes=200):\n",
    "    scores_deque = deque(maxlen=avg_over)\n",
    "    scores_global = []\n",
    "    average_global = []\n",
    "    best_avg = -np.inf\n",
    "    solved = False\n",
    "    tic = time.time()\n",
    "        \n",
    "    for i_episode in range(1, n_episodes+1):\n",
    "        env_info = env.reset(train_mode=True)[brain_name]      \n",
    "        states = env_info.vector_observations                 \n",
    "        scores = np.zeros(num_agents)                         \n",
    "        agent.reset()\n",
    "        \n",
    "        score_average = 0\n",
    "        timestep = time.time()\n",
    "        for t in count():\n",
    "            actions = agent.act(states, add_noise=True)\n",
    "            env_info = env.step(actions)[brain_name]           # send all actions to tne environment\n",
    "            next_states = env_info.vector_observations         # get next state (for each agent)\n",
    "            rewards = env_info.rewards                         # get reward (for each agent)\n",
    "            dones = env_info.local_done                        # see if episode finished\n",
    "            agent.step(states, actions, rewards, next_states, dones, t)\n",
    "            states = next_states                               # roll over states to next time step\n",
    "            scores += rewards                                  # update the score (for each agent)            \n",
    "            if np.any(dones):                                  # exit loop if episode finished\n",
    "                break\n",
    "        \n",
    "        score = np.mean(scores)\n",
    "        scores_deque.append(score)\n",
    "        score_average = np.mean(scores_deque)\n",
    "        scores_global.append(score)\n",
    "        average_global.append(score_average)\n",
    "                \n",
    "        print('\\rEpisode {}, Average Score: {:.2f}, Max Score: {:.2f}, Min Score: {:.2f}, Time per Episode: {:.2f}'\\\n",
    "              .format(i_episode, score_average, np.max(scores), np.min(scores), time.time() - timestep), end=\"\\n\")        \n",
    "        \n",
    "        if i_episode % print_every == 0:\n",
    "            torch.save(agent.actor_local.state_dict(), 'checkpoint_actor.pth')\n",
    "            torch.save(agent.critic_local.state_dict(), 'checkpoint_critic.pth')\n",
    "            print('\\rEpisode {}\\tAverage Score: {:.2f}'.format(i_episode, np.mean(scores_deque)))   \n",
    "            \n",
    "        if score_average >= 30.0:\n",
    "            toc = time.time()\n",
    "            print('\\nEnvironment solved in {:d} episodes!\\tAverage Score: {:.2f}, training time: {}'.format(i_episode, score_average, toc-tic))\n",
    "            torch.save(agent.actor_local.state_dict(), 'best_checkpoint_actor.pth')\n",
    "            torch.save(agent.critic_local.state_dict(), 'best_checkpoint_critic.pth')\n",
    "            break;\n",
    "    return scores_global, average_global"
   ]
  },
  {
   "cell_type": "code",
   "execution_count": 12,
   "metadata": {},
   "outputs": [
    {
     "name": "stdout",
     "output_type": "stream",
     "text": [
      "Episode 1, Average Score: 0.01, Max Score: 0.11, Min Score: 0.00, Time per Episode: 15.12\n",
      "Episode 2, Average Score: 0.08, Max Score: 0.72, Min Score: 0.00, Time per Episode: 15.49\n",
      "Episode 3, Average Score: 0.13, Max Score: 0.58, Min Score: 0.00, Time per Episode: 15.32\n",
      "Episode 4, Average Score: 0.28, Max Score: 1.90, Min Score: 0.09, Time per Episode: 15.66\n",
      "Episode 5, Average Score: 0.35, Max Score: 1.56, Min Score: 0.23, Time per Episode: 16.20\n",
      "Episode 6, Average Score: 0.41, Max Score: 1.96, Min Score: 0.12, Time per Episode: 15.00\n",
      "Episode 7, Average Score: 0.47, Max Score: 1.47, Min Score: 0.14, Time per Episode: 16.00\n",
      "Episode 8, Average Score: 0.52, Max Score: 2.02, Min Score: 0.16, Time per Episode: 16.25\n",
      "Episode 9, Average Score: 0.56, Max Score: 1.64, Min Score: 0.44, Time per Episode: 16.73\n",
      "Episode 10, Average Score: 0.58, Max Score: 1.94, Min Score: 0.00, Time per Episode: 15.62\n",
      "Episode 10\tAverage Score: 0.58\n",
      "Episode 11, Average Score: 0.60, Max Score: 1.76, Min Score: 0.13, Time per Episode: 16.67\n",
      "Episode 12, Average Score: 0.63, Max Score: 1.66, Min Score: 0.29, Time per Episode: 16.70\n",
      "Episode 13, Average Score: 0.67, Max Score: 2.68, Min Score: 0.15, Time per Episode: 15.63\n",
      "Episode 14, Average Score: 0.71, Max Score: 2.16, Min Score: 0.42, Time per Episode: 17.02\n",
      "Episode 15, Average Score: 0.73, Max Score: 1.92, Min Score: 0.43, Time per Episode: 17.31\n",
      "Episode 16, Average Score: 0.74, Max Score: 2.30, Min Score: 0.18, Time per Episode: 16.66\n",
      "Episode 17, Average Score: 0.74, Max Score: 1.93, Min Score: 0.09, Time per Episode: 16.82\n",
      "Episode 18, Average Score: 0.76, Max Score: 1.72, Min Score: 0.28, Time per Episode: 17.62\n",
      "Episode 19, Average Score: 0.78, Max Score: 2.17, Min Score: 0.45, Time per Episode: 17.73\n",
      "Episode 20, Average Score: 0.80, Max Score: 2.89, Min Score: 0.00, Time per Episode: 17.48\n",
      "Episode 20\tAverage Score: 0.80\n",
      "Episode 21, Average Score: 0.82, Max Score: 2.44, Min Score: 0.24, Time per Episode: 18.13\n",
      "Episode 22, Average Score: 0.85, Max Score: 2.77, Min Score: 0.34, Time per Episode: 18.21\n",
      "Episode 23, Average Score: 0.87, Max Score: 2.73, Min Score: 0.41, Time per Episode: 18.75\n",
      "Episode 24, Average Score: 0.91, Max Score: 2.75, Min Score: 0.70, Time per Episode: 17.79\n",
      "Episode 25, Average Score: 0.92, Max Score: 1.97, Min Score: 0.27, Time per Episode: 19.28\n",
      "Episode 26, Average Score: 0.96, Max Score: 3.80, Min Score: 0.58, Time per Episode: 19.85\n",
      "Episode 27, Average Score: 0.99, Max Score: 4.06, Min Score: 0.51, Time per Episode: 19.85\n",
      "Episode 28, Average Score: 1.03, Max Score: 4.81, Min Score: 1.01, Time per Episode: 20.55\n",
      "Episode 29, Average Score: 1.07, Max Score: 4.74, Min Score: 0.83, Time per Episode: 19.61\n",
      "Episode 30, Average Score: 1.12, Max Score: 3.65, Min Score: 0.91, Time per Episode: 20.89\n",
      "Episode 30\tAverage Score: 1.12\n",
      "Episode 31, Average Score: 1.19, Max Score: 12.87, Min Score: 0.80, Time per Episode: 20.67\n",
      "Episode 32, Average Score: 1.24, Max Score: 5.42, Min Score: 0.34, Time per Episode: 20.77\n",
      "Episode 33, Average Score: 1.30, Max Score: 5.12, Min Score: 1.19, Time per Episode: 21.22\n",
      "Episode 34, Average Score: 1.34, Max Score: 4.80, Min Score: 0.66, Time per Episode: 20.75\n",
      "Episode 35, Average Score: 1.38, Max Score: 7.53, Min Score: 1.44, Time per Episode: 21.47\n",
      "Episode 36, Average Score: 1.44, Max Score: 7.30, Min Score: 0.00, Time per Episode: 19.54\n",
      "Episode 37, Average Score: 1.49, Max Score: 5.15, Min Score: 1.09, Time per Episode: 19.31\n",
      "Episode 38, Average Score: 1.54, Max Score: 6.37, Min Score: 1.08, Time per Episode: 20.45\n",
      "Episode 39, Average Score: 1.60, Max Score: 7.11, Min Score: 1.31, Time per Episode: 22.35\n",
      "Episode 40, Average Score: 1.65, Max Score: 7.32, Min Score: 1.04, Time per Episode: 20.98\n",
      "Episode 40\tAverage Score: 1.65\n",
      "Episode 41, Average Score: 1.70, Max Score: 6.76, Min Score: 0.46, Time per Episode: 22.84\n",
      "Episode 42, Average Score: 1.76, Max Score: 7.76, Min Score: 1.07, Time per Episode: 22.89\n",
      "Episode 43, Average Score: 1.80, Max Score: 12.22, Min Score: 0.28, Time per Episode: 23.10\n",
      "Episode 44, Average Score: 1.87, Max Score: 8.24, Min Score: 1.13, Time per Episode: 22.35\n",
      "Episode 45, Average Score: 1.95, Max Score: 9.97, Min Score: 2.18, Time per Episode: 23.32\n",
      "Episode 46, Average Score: 2.00, Max Score: 7.37, Min Score: 0.04, Time per Episode: 24.12\n",
      "Episode 47, Average Score: 2.05, Max Score: 10.04, Min Score: 0.07, Time per Episode: 24.28\n",
      "Episode 48, Average Score: 2.12, Max Score: 13.20, Min Score: 1.42, Time per Episode: 23.93\n",
      "Episode 49, Average Score: 2.18, Max Score: 9.97, Min Score: 0.60, Time per Episode: 25.07\n",
      "Episode 50, Average Score: 2.25, Max Score: 9.36, Min Score: 1.32, Time per Episode: 23.36\n",
      "Episode 50\tAverage Score: 2.25\n",
      "Episode 51, Average Score: 2.35, Max Score: 12.89, Min Score: 2.74, Time per Episode: 25.15\n",
      "Episode 52, Average Score: 2.44, Max Score: 21.07, Min Score: 0.58, Time per Episode: 24.25\n",
      "Episode 53, Average Score: 2.51, Max Score: 12.51, Min Score: 0.68, Time per Episode: 25.26\n",
      "Episode 54, Average Score: 2.60, Max Score: 20.48, Min Score: 3.27, Time per Episode: 22.40\n",
      "Episode 55, Average Score: 2.67, Max Score: 10.82, Min Score: 2.33, Time per Episode: 23.05\n",
      "Episode 56, Average Score: 2.76, Max Score: 11.11, Min Score: 4.60, Time per Episode: 23.07\n",
      "Episode 57, Average Score: 2.84, Max Score: 12.00, Min Score: 2.93, Time per Episode: 22.21\n",
      "Episode 58, Average Score: 2.95, Max Score: 15.50, Min Score: 2.77, Time per Episode: 23.15\n",
      "Episode 59, Average Score: 3.00, Max Score: 10.73, Min Score: 2.45, Time per Episode: 24.90\n",
      "Episode 60, Average Score: 3.09, Max Score: 15.80, Min Score: 1.75, Time per Episode: 22.40\n",
      "Episode 60\tAverage Score: 3.09\n",
      "Episode 61, Average Score: 3.15, Max Score: 13.37, Min Score: 0.74, Time per Episode: 23.92\n",
      "Episode 62, Average Score: 3.23, Max Score: 18.93, Min Score: 0.34, Time per Episode: 25.22\n",
      "Episode 63, Average Score: 3.29, Max Score: 13.31, Min Score: 3.60, Time per Episode: 24.59\n",
      "Episode 64, Average Score: 3.37, Max Score: 17.34, Min Score: 4.51, Time per Episode: 25.48\n",
      "Episode 65, Average Score: 3.46, Max Score: 14.59, Min Score: 4.82, Time per Episode: 22.95\n",
      "Episode 66, Average Score: 3.55, Max Score: 26.36, Min Score: 4.31, Time per Episode: 22.22\n",
      "Episode 67, Average Score: 3.62, Max Score: 18.32, Min Score: 3.43, Time per Episode: 22.29\n",
      "Episode 68, Average Score: 3.70, Max Score: 14.66, Min Score: 5.24, Time per Episode: 25.90\n",
      "Episode 69, Average Score: 3.78, Max Score: 23.17, Min Score: 4.10, Time per Episode: 24.65\n",
      "Episode 70, Average Score: 3.88, Max Score: 36.07, Min Score: 5.01, Time per Episode: 22.19\n",
      "Episode 70\tAverage Score: 3.88\n",
      "Episode 71, Average Score: 3.96, Max Score: 13.81, Min Score: 3.73, Time per Episode: 23.69\n",
      "Episode 72, Average Score: 4.04, Max Score: 16.77, Min Score: 2.41, Time per Episode: 24.79\n",
      "Episode 73, Average Score: 4.12, Max Score: 17.33, Min Score: 5.94, Time per Episode: 22.46\n",
      "Episode 74, Average Score: 4.21, Max Score: 26.32, Min Score: 4.70, Time per Episode: 24.25\n",
      "Episode 75, Average Score: 4.30, Max Score: 16.01, Min Score: 5.32, Time per Episode: 23.57\n",
      "Episode 76, Average Score: 4.39, Max Score: 19.37, Min Score: 5.68, Time per Episode: 25.17\n",
      "Episode 77, Average Score: 4.50, Max Score: 17.92, Min Score: 7.92, Time per Episode: 24.66\n",
      "Episode 78, Average Score: 4.62, Max Score: 22.85, Min Score: 4.79, Time per Episode: 22.45\n",
      "Episode 79, Average Score: 4.73, Max Score: 19.82, Min Score: 6.08, Time per Episode: 25.03\n",
      "Episode 80, Average Score: 4.82, Max Score: 18.16, Min Score: 7.65, Time per Episode: 24.52\n",
      "Episode 80\tAverage Score: 4.82\n",
      "Episode 81, Average Score: 4.95, Max Score: 26.67, Min Score: 6.76, Time per Episode: 22.28\n",
      "Episode 82, Average Score: 5.06, Max Score: 26.88, Min Score: 4.88, Time per Episode: 25.65\n",
      "Episode 83, Average Score: 5.16, Max Score: 23.05, Min Score: 6.22, Time per Episode: 23.83\n",
      "Episode 84, Average Score: 5.27, Max Score: 22.86, Min Score: 5.48, Time per Episode: 24.13\n",
      "Episode 85, Average Score: 5.40, Max Score: 21.64, Min Score: 5.22, Time per Episode: 26.27\n",
      "Episode 86, Average Score: 5.50, Max Score: 22.00, Min Score: 5.12, Time per Episode: 24.11\n",
      "Episode 87, Average Score: 5.59, Max Score: 22.05, Min Score: 4.74, Time per Episode: 22.82\n"
     ]
    },
    {
     "name": "stdout",
     "output_type": "stream",
     "text": [
      "Episode 88, Average Score: 5.72, Max Score: 22.63, Min Score: 4.68, Time per Episode: 23.77\n",
      "Episode 89, Average Score: 5.86, Max Score: 36.88, Min Score: 5.09, Time per Episode: 21.94\n",
      "Episode 90, Average Score: 6.00, Max Score: 26.01, Min Score: 5.46, Time per Episode: 23.69\n",
      "Episode 90\tAverage Score: 6.00\n",
      "Episode 91, Average Score: 6.08, Max Score: 32.75, Min Score: 2.07, Time per Episode: 23.25\n",
      "Episode 92, Average Score: 6.19, Max Score: 22.06, Min Score: 2.00, Time per Episode: 23.12\n",
      "Episode 93, Average Score: 6.30, Max Score: 21.49, Min Score: 7.24, Time per Episode: 22.22\n",
      "Episode 94, Average Score: 6.42, Max Score: 26.70, Min Score: 6.44, Time per Episode: 22.32\n",
      "Episode 95, Average Score: 6.53, Max Score: 25.86, Min Score: 5.13, Time per Episode: 22.01\n",
      "Episode 96, Average Score: 6.67, Max Score: 34.14, Min Score: 7.36, Time per Episode: 22.37\n",
      "Episode 97, Average Score: 6.79, Max Score: 34.79, Min Score: 5.38, Time per Episode: 22.98\n",
      "Episode 98, Average Score: 6.95, Max Score: 29.25, Min Score: 10.88, Time per Episode: 26.11\n",
      "Episode 99, Average Score: 7.09, Max Score: 31.90, Min Score: 10.00, Time per Episode: 24.65\n",
      "Episode 100, Average Score: 7.25, Max Score: 39.57, Min Score: 10.35, Time per Episode: 26.44\n",
      "Episode 100\tAverage Score: 7.25\n",
      "Episode 101, Average Score: 7.48, Max Score: 33.20, Min Score: 9.24, Time per Episode: 24.47\n",
      "Episode 102, Average Score: 7.70, Max Score: 30.04, Min Score: 8.25, Time per Episode: 22.19\n",
      "Episode 103, Average Score: 7.89, Max Score: 30.36, Min Score: 7.21, Time per Episode: 24.08\n",
      "Episode 104, Average Score: 8.10, Max Score: 38.85, Min Score: 9.38, Time per Episode: 23.84\n",
      "Episode 105, Average Score: 8.34, Max Score: 33.51, Min Score: 4.66, Time per Episode: 25.35\n",
      "Episode 106, Average Score: 8.59, Max Score: 36.49, Min Score: 11.80, Time per Episode: 25.13\n",
      "Episode 107, Average Score: 8.83, Max Score: 34.39, Min Score: 11.71, Time per Episode: 24.36\n",
      "Episode 108, Average Score: 9.07, Max Score: 39.55, Min Score: 11.88, Time per Episode: 24.40\n",
      "Episode 109, Average Score: 9.34, Max Score: 34.58, Min Score: 11.82, Time per Episode: 23.57\n",
      "Episode 110, Average Score: 9.59, Max Score: 39.58, Min Score: 14.17, Time per Episode: 23.54\n",
      "Episode 110\tAverage Score: 9.59\n",
      "Episode 111, Average Score: 9.84, Max Score: 39.50, Min Score: 12.60, Time per Episode: 22.20\n",
      "Episode 112, Average Score: 10.12, Max Score: 35.14, Min Score: 18.23, Time per Episode: 22.16\n",
      "Episode 113, Average Score: 10.37, Max Score: 39.61, Min Score: 13.01, Time per Episode: 22.83\n",
      "Episode 114, Average Score: 10.65, Max Score: 34.40, Min Score: 18.62, Time per Episode: 23.91\n",
      "Episode 115, Average Score: 10.93, Max Score: 39.24, Min Score: 19.29, Time per Episode: 25.18\n",
      "Episode 116, Average Score: 11.18, Max Score: 34.01, Min Score: 11.89, Time per Episode: 25.87\n",
      "Episode 117, Average Score: 11.43, Max Score: 39.07, Min Score: 11.44, Time per Episode: 24.58\n",
      "Episode 118, Average Score: 11.66, Max Score: 33.79, Min Score: 11.42, Time per Episode: 23.22\n",
      "Episode 119, Average Score: 11.93, Max Score: 34.83, Min Score: 12.34, Time per Episode: 25.28\n",
      "Episode 120, Average Score: 12.17, Max Score: 36.48, Min Score: 9.42, Time per Episode: 23.98\n",
      "Episode 120\tAverage Score: 12.17\n",
      "Episode 121, Average Score: 12.48, Max Score: 39.42, Min Score: 18.14, Time per Episode: 22.52\n",
      "Episode 122, Average Score: 12.75, Max Score: 39.67, Min Score: 8.55, Time per Episode: 23.66\n",
      "Episode 123, Average Score: 13.05, Max Score: 38.61, Min Score: 22.48, Time per Episode: 22.96\n",
      "Episode 124, Average Score: 13.33, Max Score: 36.00, Min Score: 18.23, Time per Episode: 23.18\n",
      "Episode 125, Average Score: 13.64, Max Score: 39.53, Min Score: 27.38, Time per Episode: 22.36\n",
      "Episode 126, Average Score: 13.93, Max Score: 39.41, Min Score: 19.50, Time per Episode: 25.56\n",
      "Episode 127, Average Score: 14.21, Max Score: 36.07, Min Score: 18.76, Time per Episode: 26.26\n",
      "Episode 128, Average Score: 14.47, Max Score: 39.54, Min Score: 18.81, Time per Episode: 25.45\n",
      "Episode 129, Average Score: 14.76, Max Score: 35.72, Min Score: 23.30, Time per Episode: 22.95\n",
      "Episode 130, Average Score: 15.04, Max Score: 35.58, Min Score: 25.79, Time per Episode: 25.24\n",
      "Episode 130\tAverage Score: 15.04\n",
      "Episode 131, Average Score: 15.33, Max Score: 37.72, Min Score: 23.56, Time per Episode: 22.08\n",
      "Episode 132, Average Score: 15.62, Max Score: 39.03, Min Score: 21.21, Time per Episode: 24.07\n",
      "Episode 133, Average Score: 15.90, Max Score: 35.60, Min Score: 25.01, Time per Episode: 26.38\n",
      "Episode 134, Average Score: 16.19, Max Score: 38.15, Min Score: 20.43, Time per Episode: 25.73\n",
      "Episode 135, Average Score: 16.46, Max Score: 34.48, Min Score: 23.24, Time per Episode: 24.90\n",
      "Episode 136, Average Score: 16.72, Max Score: 34.56, Min Score: 20.53, Time per Episode: 23.29\n",
      "Episode 137, Average Score: 17.01, Max Score: 36.20, Min Score: 25.12, Time per Episode: 22.07\n",
      "Episode 138, Average Score: 17.27, Max Score: 39.58, Min Score: 13.16, Time per Episode: 21.89\n",
      "Episode 139, Average Score: 17.54, Max Score: 36.49, Min Score: 19.47, Time per Episode: 22.23\n",
      "Episode 140, Average Score: 17.81, Max Score: 39.55, Min Score: 18.01, Time per Episode: 24.36\n",
      "Episode 140\tAverage Score: 17.81\n",
      "Episode 141, Average Score: 18.07, Max Score: 37.18, Min Score: 17.56, Time per Episode: 25.45\n",
      "Episode 142, Average Score: 18.33, Max Score: 37.40, Min Score: 15.45, Time per Episode: 23.62\n",
      "Episode 143, Average Score: 18.61, Max Score: 37.07, Min Score: 21.86, Time per Episode: 22.44\n",
      "Episode 144, Average Score: 18.88, Max Score: 39.34, Min Score: 24.13, Time per Episode: 23.85\n",
      "Episode 145, Average Score: 19.12, Max Score: 39.58, Min Score: 14.86, Time per Episode: 22.24\n",
      "Episode 146, Average Score: 19.40, Max Score: 38.82, Min Score: 21.97, Time per Episode: 22.11\n",
      "Episode 147, Average Score: 19.65, Max Score: 37.58, Min Score: 21.58, Time per Episode: 22.36\n",
      "Episode 148, Average Score: 19.90, Max Score: 39.20, Min Score: 22.23, Time per Episode: 22.12\n",
      "Episode 149, Average Score: 20.17, Max Score: 38.06, Min Score: 22.68, Time per Episode: 22.23\n",
      "Episode 150, Average Score: 20.45, Max Score: 38.71, Min Score: 23.38, Time per Episode: 22.16\n",
      "Episode 150\tAverage Score: 20.45\n",
      "Episode 151, Average Score: 20.73, Max Score: 39.66, Min Score: 27.26, Time per Episode: 22.79\n",
      "Episode 152, Average Score: 21.01, Max Score: 38.59, Min Score: 27.30, Time per Episode: 22.21\n",
      "Episode 153, Average Score: 21.30, Max Score: 39.14, Min Score: 19.91, Time per Episode: 23.00\n",
      "Episode 154, Average Score: 21.57, Max Score: 39.67, Min Score: 26.08, Time per Episode: 22.47\n",
      "Episode 155, Average Score: 21.85, Max Score: 39.05, Min Score: 29.19, Time per Episode: 23.50\n",
      "Episode 156, Average Score: 22.10, Max Score: 39.52, Min Score: 22.09, Time per Episode: 24.09\n",
      "Episode 157, Average Score: 22.36, Max Score: 36.96, Min Score: 21.98, Time per Episode: 23.86\n",
      "Episode 158, Average Score: 22.61, Max Score: 37.74, Min Score: 27.46, Time per Episode: 22.89\n",
      "Episode 159, Average Score: 22.88, Max Score: 37.02, Min Score: 21.74, Time per Episode: 22.71\n",
      "Episode 160, Average Score: 23.14, Max Score: 37.45, Min Score: 23.73, Time per Episode: 22.29\n",
      "Episode 160\tAverage Score: 23.14\n",
      "Episode 161, Average Score: 23.43, Max Score: 39.34, Min Score: 26.40, Time per Episode: 23.32\n",
      "Episode 162, Average Score: 23.70, Max Score: 38.12, Min Score: 28.03, Time per Episode: 23.85\n",
      "Episode 163, Average Score: 23.98, Max Score: 39.53, Min Score: 22.89, Time per Episode: 22.47\n",
      "Episode 164, Average Score: 24.24, Max Score: 37.49, Min Score: 25.11, Time per Episode: 24.11\n",
      "Episode 165, Average Score: 24.50, Max Score: 38.77, Min Score: 25.76, Time per Episode: 22.57\n",
      "Episode 166, Average Score: 24.71, Max Score: 38.08, Min Score: 18.40, Time per Episode: 23.16\n",
      "Episode 167, Average Score: 24.96, Max Score: 38.78, Min Score: 20.34, Time per Episode: 24.37\n",
      "Episode 168, Average Score: 25.20, Max Score: 38.73, Min Score: 24.70, Time per Episode: 24.39\n",
      "Episode 169, Average Score: 25.44, Max Score: 37.52, Min Score: 25.20, Time per Episode: 24.05\n",
      "Episode 170, Average Score: 25.66, Max Score: 39.37, Min Score: 23.27, Time per Episode: 22.19\n",
      "Episode 170\tAverage Score: 25.66\n",
      "Episode 171, Average Score: 25.91, Max Score: 39.01, Min Score: 27.91, Time per Episode: 22.05\n"
     ]
    },
    {
     "name": "stdout",
     "output_type": "stream",
     "text": [
      "Episode 172, Average Score: 26.15, Max Score: 38.28, Min Score: 23.50, Time per Episode: 22.46\n",
      "Episode 173, Average Score: 26.40, Max Score: 38.43, Min Score: 30.24, Time per Episode: 24.94\n",
      "Episode 174, Average Score: 26.66, Max Score: 39.42, Min Score: 28.71, Time per Episode: 22.27\n",
      "Episode 175, Average Score: 26.91, Max Score: 39.50, Min Score: 30.53, Time per Episode: 23.37\n",
      "Episode 176, Average Score: 27.14, Max Score: 39.36, Min Score: 26.46, Time per Episode: 22.18\n",
      "Episode 177, Average Score: 27.36, Max Score: 39.50, Min Score: 25.76, Time per Episode: 22.05\n",
      "Episode 178, Average Score: 27.57, Max Score: 39.15, Min Score: 27.16, Time per Episode: 24.17\n",
      "Episode 179, Average Score: 27.80, Max Score: 39.62, Min Score: 29.85, Time per Episode: 22.67\n",
      "Episode 180, Average Score: 28.04, Max Score: 39.29, Min Score: 30.00, Time per Episode: 24.79\n",
      "Episode 180\tAverage Score: 28.04\n",
      "Episode 181, Average Score: 28.25, Max Score: 38.98, Min Score: 31.42, Time per Episode: 22.04\n",
      "Episode 182, Average Score: 28.45, Max Score: 39.10, Min Score: 27.67, Time per Episode: 22.26\n",
      "Episode 183, Average Score: 28.65, Max Score: 38.17, Min Score: 27.08, Time per Episode: 22.04\n",
      "Episode 184, Average Score: 28.86, Max Score: 39.58, Min Score: 13.52, Time per Episode: 23.78\n",
      "Episode 185, Average Score: 29.05, Max Score: 39.62, Min Score: 31.79, Time per Episode: 24.12\n",
      "Episode 186, Average Score: 29.27, Max Score: 38.80, Min Score: 30.12, Time per Episode: 23.04\n",
      "Episode 187, Average Score: 29.49, Max Score: 38.92, Min Score: 24.77, Time per Episode: 21.74\n",
      "Episode 188, Average Score: 29.68, Max Score: 39.63, Min Score: 29.65, Time per Episode: 23.24\n",
      "Episode 189, Average Score: 29.84, Max Score: 39.56, Min Score: 28.44, Time per Episode: 22.18\n",
      "Episode 190, Average Score: 30.02, Max Score: 39.62, Min Score: 29.88, Time per Episode: 24.26\n",
      "Episode 190\tAverage Score: 30.02\n",
      "\n",
      "Environment solved in 190 episodes!\tAverage Score: 30.02, training time: 4263.60361790657\n",
      "Episode 191, Average Score: 30.25, Max Score: 39.36, Min Score: 31.76, Time per Episode: 21.81\n",
      "Episode 192, Average Score: 30.47, Max Score: 39.47, Min Score: 33.62, Time per Episode: 21.90\n",
      "Episode 193, Average Score: 30.68, Max Score: 39.63, Min Score: 33.27, Time per Episode: 24.15\n",
      "Episode 194, Average Score: 30.87, Max Score: 38.47, Min Score: 32.73, Time per Episode: 22.06\n",
      "Episode 195, Average Score: 31.07, Max Score: 39.56, Min Score: 34.56, Time per Episode: 22.03\n",
      "Episode 196, Average Score: 31.24, Max Score: 39.41, Min Score: 31.51, Time per Episode: 22.13\n",
      "Episode 197, Average Score: 31.43, Max Score: 39.57, Min Score: 33.96, Time per Episode: 22.11\n",
      "Episode 198, Average Score: 31.56, Max Score: 39.16, Min Score: 33.81, Time per Episode: 22.18\n",
      "Episode 199, Average Score: 31.73, Max Score: 39.35, Min Score: 32.15, Time per Episode: 24.16\n",
      "Episode 200, Average Score: 31.86, Max Score: 39.03, Min Score: 32.34, Time per Episode: 22.42\n",
      "Episode 200\tAverage Score: 31.86\n"
     ]
    }
   ],
   "source": [
    "scores = ddpg()"
   ]
  },
  {
   "cell_type": "code",
   "execution_count": 13,
   "metadata": {},
   "outputs": [
    {
     "data": {
      "image/png": "[encoded data removed]",
      "text/plain": [
       "<Figure size 432x288 with 1 Axes>"
      ]
     },
     "metadata": {
      "needs_background": "light"
     },
     "output_type": "display_data"
    }
   ],
   "source": [
    "import matplotlib.pyplot as plt\n",
    "%matplotlib inline\n",
    "\n",
    "# plot the scores\n",
    "fig = plt.figure()\n",
    "ax = fig.add_subplot(111)\n",
    "plt.plot(np.arange(len(scores)), scores)\n",
    "plt.ylabel('Score')\n",
    "plt.xlabel('Episode #')\n",
    "plt.show()"
   ]
  },
  {
   "cell_type": "code",
   "execution_count": 14,
   "metadata": {},
   "outputs": [
    {
     "ename": "AttributeError",
     "evalue": "'Agent' object has no attribute 'qnetwork_local'",
     "output_type": "error",
     "traceback": [
      "\u001b[0;31m--------------------------------------------------------------------------\u001b[0m",
      "\u001b[0;31mAttributeError\u001b[0m                           Traceback (most recent call last)",
      "\u001b[0;32m<ipython-input-14-ca07f20b2535>\u001b[0m in \u001b[0;36m<module>\u001b[0;34m\u001b[0m\n\u001b[0;32m----> 1\u001b[0;31m \u001b[0magent\u001b[0m\u001b[0;34m.\u001b[0m\u001b[0mqnetwork_local\u001b[0m\u001b[0;34m.\u001b[0m\u001b[0mload_state_dict\u001b[0m\u001b[0;34m(\u001b[0m\u001b[0mtorch\u001b[0m\u001b[0;34m.\u001b[0m\u001b[0mload\u001b[0m\u001b[0;34m(\u001b[0m\u001b[0;34m'checkpoint.pth'\u001b[0m\u001b[0;34m)\u001b[0m\u001b[0;34m)\u001b[0m\u001b[0;34m\u001b[0m\u001b[0;34m\u001b[0m\u001b[0m\n\u001b[0m\u001b[1;32m      2\u001b[0m \u001b[0;34m\u001b[0m\u001b[0m\n\u001b[1;32m      3\u001b[0m \u001b[0;32mfor\u001b[0m \u001b[0mi\u001b[0m \u001b[0;32min\u001b[0m \u001b[0mrange\u001b[0m\u001b[0;34m(\u001b[0m\u001b[0;36m5\u001b[0m\u001b[0;34m)\u001b[0m\u001b[0;34m:\u001b[0m\u001b[0;34m\u001b[0m\u001b[0;34m\u001b[0m\u001b[0m\n\u001b[1;32m      4\u001b[0m     \u001b[0mstate\u001b[0m \u001b[0;34m=\u001b[0m \u001b[0menv\u001b[0m\u001b[0;34m.\u001b[0m\u001b[0mreset\u001b[0m\u001b[0;34m(\u001b[0m\u001b[0;34m)\u001b[0m\u001b[0;34m\u001b[0m\u001b[0;34m\u001b[0m\u001b[0m\n\u001b[1;32m      5\u001b[0m     \u001b[0;32mfor\u001b[0m \u001b[0mj\u001b[0m \u001b[0;32min\u001b[0m \u001b[0mrange\u001b[0m\u001b[0;34m(\u001b[0m\u001b[0;36m200\u001b[0m\u001b[0;34m)\u001b[0m\u001b[0;34m:\u001b[0m\u001b[0;34m\u001b[0m\u001b[0;34m\u001b[0m\u001b[0m\n",
      "\u001b[0;31mAttributeError\u001b[0m: 'Agent' object has no attribute 'qnetwork_local'"
     ]
    }
   ],
   "source": [
    "agent.qnetwork_local.load_state_dict(torch.load('checkpoint.pth'))\n",
    "\n",
    "checkpoint_critic.pth\n",
    "for i in range(5):\n",
    "    state = env.reset()\n",
    "    for j in range(200):\n",
    "        action = agent.act(state)\n",
    "        env.render()\n",
    "        state, reward, done, _ = env.step(action)\n",
    "        if done:\n",
    "            break "
   ]
  },
  {
   "cell_type": "markdown",
   "metadata": {},
   "source": [
    "When finished, you can close the environment."
   ]
  },
  {
   "cell_type": "code",
   "execution_count": null,
   "metadata": {},
   "outputs": [],
   "source": [
    "# env.close()"
   ]
  }
 ],
 "metadata": {
  "kernelspec": {
   "display_name": "Python 3",
   "language": "python",
   "name": "python3"
  },
  "language_info": {
   "codemirror_mode": {
    "name": "ipython",
    "version": 3
   },
   "file_extension": ".py",
   "mimetype": "text/x-python",
   "name": "python",
   "nbconvert_exporter": "python",
   "pygments_lexer": "ipython3",
   "version": "3.6.9"
  }
 },
 "nbformat": 4,
 "nbformat_minor": 2
}
